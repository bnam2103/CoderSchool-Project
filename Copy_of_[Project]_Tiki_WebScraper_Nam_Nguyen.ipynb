{
  "nbformat": 4,
  "nbformat_minor": 0,
  "metadata": {
    "colab": {
      "provenance": [],
      "collapsed_sections": [
        "J3zDxF2zh7M7"
      ]
    },
    "kernelspec": {
      "name": "python3",
      "display_name": "Python 3"
    },
    "language_info": {
      "name": "python"
    }
  },
  "cells": [
    {
      "cell_type": "markdown",
      "metadata": {
        "id": "Qi_-66FnZDLV"
      },
      "source": [
        "<img src='https://haymora.com/blog/wp-content/uploads/2020/05/tiki-hanh-trinh-10-nam-phat-trien.jpg' width=browser_width>\n",
        "<!--<img src=\"https://s3.cloud.cmctelecom.vn/tinhte1/2018/03/4267082_CV.jpg\" width=browser_width >-->"
      ]
    },
    {
      "cell_type": "markdown",
      "metadata": {
        "id": "vUYk0UDdbsFG"
      },
      "source": [
        "# **Tiki Web Scraping with Selenium**\n",
        "\n",
        "\n",
        "**Overview**: Build a web-crawler that take in a Tiki URL and return a dataframe contains information of products.\n",
        "\n",
        "**Requirements** \n",
        "1. Scrape at least **3 pages of any single category**.\n",
        "2. Your program should be able to scrape www.tiki.vn and generate a `.csv` file as a result.\n",
        "3. The `.csv` file should contain the following information: \n",
        "    * Product Name\n",
        "    * Price\n",
        "    * URL of the product image (thumbnail)\n",
        "    * URL of that product page\n",
        "\n",
        "Follow the guideline below for more details."
      ]
    },
    {
      "cell_type": "markdown",
      "metadata": {
        "id": "0eN3zAMuXMh3"
      },
      "source": [
        "## 0.Setting up"
      ]
    },
    {
      "cell_type": "markdown",
      "metadata": {
        "id": "y9YQJxiiXiZ-"
      },
      "source": [
        "### Install and import resources"
      ]
    },
    {
      "cell_type": "code",
      "metadata": {
        "id": "WH7Z6VRFLYm2",
        "colab": {
          "base_uri": "https://localhost:8080/"
        },
        "outputId": "a13542c0-96a5-4dbb-bc8b-0ff562e47825"
      },
      "source": [
        "# install selenium and other resources for crawling data\n",
        "!pip install selenium\n",
        "!apt-get update\n",
        "!apt install chromium-chromedriver"
      ],
      "execution_count": null,
      "outputs": [
        {
          "output_type": "stream",
          "name": "stdout",
          "text": [
            "Looking in indexes: https://pypi.org/simple, https://us-python.pkg.dev/colab-wheels/public/simple/\n",
            "Collecting selenium\n",
            "  Downloading selenium-4.3.0-py3-none-any.whl (981 kB)\n",
            "\u001b[K     |████████████████████████████████| 981 kB 29.4 MB/s \n",
            "\u001b[?25hCollecting trio-websocket~=0.9\n",
            "  Downloading trio_websocket-0.9.2-py3-none-any.whl (16 kB)\n",
            "Collecting urllib3[secure,socks]~=1.26\n",
            "  Downloading urllib3-1.26.10-py2.py3-none-any.whl (139 kB)\n",
            "\u001b[K     |████████████████████████████████| 139 kB 50.3 MB/s \n",
            "\u001b[?25hCollecting trio~=0.17\n",
            "  Downloading trio-0.21.0-py3-none-any.whl (358 kB)\n",
            "\u001b[K     |████████████████████████████████| 358 kB 40.9 MB/s \n",
            "\u001b[?25hCollecting outcome\n",
            "  Downloading outcome-1.2.0-py2.py3-none-any.whl (9.7 kB)\n",
            "Requirement already satisfied: sortedcontainers in /usr/local/lib/python3.7/dist-packages (from trio~=0.17->selenium) (2.4.0)\n",
            "Collecting async-generator>=1.9\n",
            "  Downloading async_generator-1.10-py3-none-any.whl (18 kB)\n",
            "Collecting sniffio\n",
            "  Downloading sniffio-1.2.0-py3-none-any.whl (10 kB)\n",
            "Requirement already satisfied: attrs>=19.2.0 in /usr/local/lib/python3.7/dist-packages (from trio~=0.17->selenium) (21.4.0)\n",
            "Requirement already satisfied: idna in /usr/local/lib/python3.7/dist-packages (from trio~=0.17->selenium) (2.10)\n",
            "Collecting wsproto>=0.14\n",
            "  Downloading wsproto-1.1.0-py3-none-any.whl (24 kB)\n",
            "Collecting cryptography>=1.3.4\n",
            "  Downloading cryptography-37.0.4-cp36-abi3-manylinux_2_24_x86_64.whl (4.1 MB)\n",
            "\u001b[K     |████████████████████████████████| 4.1 MB 41.3 MB/s \n",
            "\u001b[?25hRequirement already satisfied: certifi in /usr/local/lib/python3.7/dist-packages (from urllib3[secure,socks]~=1.26->selenium) (2022.6.15)\n",
            "Collecting pyOpenSSL>=0.14\n",
            "  Downloading pyOpenSSL-22.0.0-py2.py3-none-any.whl (55 kB)\n",
            "\u001b[K     |████████████████████████████████| 55 kB 5.8 MB/s \n",
            "\u001b[?25hRequirement already satisfied: PySocks!=1.5.7,<2.0,>=1.5.6 in /usr/local/lib/python3.7/dist-packages (from urllib3[secure,socks]~=1.26->selenium) (1.7.1)\n",
            "Requirement already satisfied: cffi>=1.12 in /usr/local/lib/python3.7/dist-packages (from cryptography>=1.3.4->urllib3[secure,socks]~=1.26->selenium) (1.15.1)\n",
            "Requirement already satisfied: pycparser in /usr/local/lib/python3.7/dist-packages (from cffi>=1.12->cryptography>=1.3.4->urllib3[secure,socks]~=1.26->selenium) (2.21)\n",
            "Collecting h11<1,>=0.9.0\n",
            "  Downloading h11-0.13.0-py3-none-any.whl (58 kB)\n",
            "\u001b[K     |████████████████████████████████| 58 kB 7.9 MB/s \n",
            "\u001b[?25hRequirement already satisfied: typing-extensions in /usr/local/lib/python3.7/dist-packages (from h11<1,>=0.9.0->wsproto>=0.14->trio-websocket~=0.9->selenium) (4.1.1)\n",
            "Installing collected packages: sniffio, outcome, h11, cryptography, async-generator, wsproto, urllib3, trio, pyOpenSSL, trio-websocket, selenium\n",
            "  Attempting uninstall: urllib3\n",
            "    Found existing installation: urllib3 1.24.3\n",
            "    Uninstalling urllib3-1.24.3:\n",
            "      Successfully uninstalled urllib3-1.24.3\n",
            "\u001b[31mERROR: pip's dependency resolver does not currently take into account all the packages that are installed. This behaviour is the source of the following dependency conflicts.\n",
            "requests 2.23.0 requires urllib3!=1.25.0,!=1.25.1,<1.26,>=1.21.1, but you have urllib3 1.26.10 which is incompatible.\n",
            "datascience 0.10.6 requires folium==0.2.1, but you have folium 0.8.3 which is incompatible.\u001b[0m\n",
            "Successfully installed async-generator-1.10 cryptography-37.0.4 h11-0.13.0 outcome-1.2.0 pyOpenSSL-22.0.0 selenium-4.3.0 sniffio-1.2.0 trio-0.21.0 trio-websocket-0.9.2 urllib3-1.26.10 wsproto-1.1.0\n",
            "Get:1 http://security.ubuntu.com/ubuntu bionic-security InRelease [88.7 kB]\n",
            "Get:2 https://cloud.r-project.org/bin/linux/ubuntu bionic-cran40/ InRelease [3,626 B]\n",
            "Hit:3 https://developer.download.nvidia.com/compute/cuda/repos/ubuntu1804/x86_64  InRelease\n",
            "Hit:4 http://ppa.launchpad.net/c2d4u.team/c2d4u4.0+/ubuntu bionic InRelease\n",
            "Hit:5 http://archive.ubuntu.com/ubuntu bionic InRelease\n",
            "Ign:6 https://developer.download.nvidia.com/compute/machine-learning/repos/ubuntu1804/x86_64  InRelease\n",
            "Get:7 http://archive.ubuntu.com/ubuntu bionic-updates InRelease [88.7 kB]\n",
            "Hit:8 https://developer.download.nvidia.com/compute/machine-learning/repos/ubuntu1804/x86_64  Release\n",
            "Hit:9 http://ppa.launchpad.net/cran/libgit2/ubuntu bionic InRelease\n",
            "Get:10 https://cloud.r-project.org/bin/linux/ubuntu bionic-cran40/ Packages [85.6 kB]\n",
            "Hit:11 http://ppa.launchpad.net/deadsnakes/ppa/ubuntu bionic InRelease\n",
            "Get:12 http://archive.ubuntu.com/ubuntu bionic-backports InRelease [74.6 kB]\n",
            "Hit:13 http://ppa.launchpad.net/graphics-drivers/ppa/ubuntu bionic InRelease\n",
            "Get:14 http://security.ubuntu.com/ubuntu bionic-security/universe amd64 Packages [1,526 kB]\n",
            "Get:15 http://security.ubuntu.com/ubuntu bionic-security/main amd64 Packages [2,897 kB]\n",
            "Get:16 http://security.ubuntu.com/ubuntu bionic-security/restricted amd64 Packages [1,057 kB]\n",
            "Get:18 http://archive.ubuntu.com/ubuntu bionic-updates/main amd64 Packages [3,329 kB]\n",
            "Get:19 http://archive.ubuntu.com/ubuntu bionic-updates/universe amd64 Packages [2,302 kB]\n",
            "Fetched 11.5 MB in 3s (3,642 kB/s)\n",
            "Reading package lists... Done\n",
            "Reading package lists... Done\n",
            "Building dependency tree       \n",
            "Reading state information... Done\n",
            "The following package was automatically installed and is no longer required:\n",
            "  libnvidia-common-460\n",
            "Use 'apt autoremove' to remove it.\n",
            "The following additional packages will be installed:\n",
            "  chromium-browser chromium-browser-l10n chromium-codecs-ffmpeg-extra\n",
            "Suggested packages:\n",
            "  webaccounts-chromium-extension unity-chromium-extension\n",
            "The following NEW packages will be installed:\n",
            "  chromium-browser chromium-browser-l10n chromium-chromedriver\n",
            "  chromium-codecs-ffmpeg-extra\n",
            "0 upgraded, 4 newly installed, 0 to remove and 64 not upgraded.\n",
            "Need to get 89.8 MB of archives.\n",
            "After this operation, 302 MB of additional disk space will be used.\n",
            "Get:1 http://archive.ubuntu.com/ubuntu bionic-updates/universe amd64 chromium-codecs-ffmpeg-extra amd64 101.0.4951.64-0ubuntu0.18.04.1 [1,142 kB]\n",
            "Get:2 http://archive.ubuntu.com/ubuntu bionic-updates/universe amd64 chromium-browser amd64 101.0.4951.64-0ubuntu0.18.04.1 [78.5 MB]\n",
            "Get:3 http://archive.ubuntu.com/ubuntu bionic-updates/universe amd64 chromium-browser-l10n all 101.0.4951.64-0ubuntu0.18.04.1 [4,980 kB]\n",
            "Get:4 http://archive.ubuntu.com/ubuntu bionic-updates/universe amd64 chromium-chromedriver amd64 101.0.4951.64-0ubuntu0.18.04.1 [5,153 kB]\n",
            "Fetched 89.8 MB in 3s (27.4 MB/s)\n",
            "Selecting previously unselected package chromium-codecs-ffmpeg-extra.\n",
            "(Reading database ... 155653 files and directories currently installed.)\n",
            "Preparing to unpack .../chromium-codecs-ffmpeg-extra_101.0.4951.64-0ubuntu0.18.04.1_amd64.deb ...\n",
            "Unpacking chromium-codecs-ffmpeg-extra (101.0.4951.64-0ubuntu0.18.04.1) ...\n",
            "Selecting previously unselected package chromium-browser.\n",
            "Preparing to unpack .../chromium-browser_101.0.4951.64-0ubuntu0.18.04.1_amd64.deb ...\n",
            "Unpacking chromium-browser (101.0.4951.64-0ubuntu0.18.04.1) ...\n",
            "Selecting previously unselected package chromium-browser-l10n.\n",
            "Preparing to unpack .../chromium-browser-l10n_101.0.4951.64-0ubuntu0.18.04.1_all.deb ...\n",
            "Unpacking chromium-browser-l10n (101.0.4951.64-0ubuntu0.18.04.1) ...\n",
            "Selecting previously unselected package chromium-chromedriver.\n",
            "Preparing to unpack .../chromium-chromedriver_101.0.4951.64-0ubuntu0.18.04.1_amd64.deb ...\n",
            "Unpacking chromium-chromedriver (101.0.4951.64-0ubuntu0.18.04.1) ...\n",
            "Setting up chromium-codecs-ffmpeg-extra (101.0.4951.64-0ubuntu0.18.04.1) ...\n",
            "Setting up chromium-browser (101.0.4951.64-0ubuntu0.18.04.1) ...\n",
            "update-alternatives: using /usr/bin/chromium-browser to provide /usr/bin/x-www-browser (x-www-browser) in auto mode\n",
            "update-alternatives: using /usr/bin/chromium-browser to provide /usr/bin/gnome-www-browser (gnome-www-browser) in auto mode\n",
            "Setting up chromium-chromedriver (101.0.4951.64-0ubuntu0.18.04.1) ...\n",
            "Setting up chromium-browser-l10n (101.0.4951.64-0ubuntu0.18.04.1) ...\n",
            "Processing triggers for man-db (2.8.3-2ubuntu0.1) ...\n",
            "Processing triggers for hicolor-icon-theme (0.17-2) ...\n",
            "Processing triggers for mime-support (3.60ubuntu1) ...\n",
            "Processing triggers for libc-bin (2.27-3ubuntu1.3) ...\n",
            "/sbin/ldconfig.real: /usr/local/lib/python3.7/dist-packages/ideep4py/lib/libmkldnn.so.0 is not a symbolic link\n",
            "\n"
          ]
        }
      ]
    },
    {
      "cell_type": "code",
      "metadata": {
        "id": "VzYAnIcMLDVc"
      },
      "source": [
        "import re\n",
        "import time\n",
        "import pandas as pd\n",
        "\n",
        "from selenium import webdriver\n",
        "from selenium.webdriver.common.by import By\n",
        "from selenium.common.exceptions import NoSuchElementException"
      ],
      "execution_count": null,
      "outputs": []
    },
    {
      "cell_type": "markdown",
      "source": [
        "### Function to start and close driver"
      ],
      "metadata": {
        "id": "QI9aPQJmPEac"
      }
    },
    {
      "cell_type": "code",
      "metadata": {
        "id": "taSb4oreXL6l"
      },
      "source": [
        "# Global driver to use throughout the script\n",
        "DRIVER = None\n",
        "\n",
        "# Wrapper to close driver if its created\n",
        "def close_driver():\n",
        "    global DRIVER\n",
        "    if DRIVER is not None:\n",
        "        DRIVER.close()\n",
        "    DRIVER = None\n",
        "\n",
        "# Function to (re)start driver\n",
        "def start_driver(force_restart=False):\n",
        "    global DRIVER\n",
        "    \n",
        "    if force_restart:\n",
        "        close_driver()\n",
        "    \n",
        "    # Setting up the driver\n",
        "    options = webdriver.ChromeOptions()\n",
        "    options.add_argument('-headless') # we don't want a chrome browser opens, so it will run in the background\n",
        "    options.add_argument('-no-sandbox')\n",
        "    options.add_argument('-disable-dev-shm-usage')\n",
        "\n",
        "    DRIVER = webdriver.Chrome('chromedriver',options=options)\n"
      ],
      "execution_count": null,
      "outputs": []
    },
    {
      "cell_type": "markdown",
      "metadata": {
        "id": "1PxiWLQ2Xoc9"
      },
      "source": [
        "### Setting up categories and links"
      ]
    },
    {
      "cell_type": "code",
      "source": [
        "# Urls\n",
        "TIKI = 'https://tiki.vn'"
      ],
      "metadata": {
        "id": "feRTHjztPc1t"
      },
      "execution_count": null,
      "outputs": []
    },
    {
      "cell_type": "code",
      "metadata": {
        "id": "GUk_wQ3SK_Lz"
      },
      "source": [
        "#@title <a name=\"tiki-cats\"></a> { form-width:'1px' }\n",
        "# Pre-defined links to each categories\n",
        "MAIN_CATEGORIES = [\n",
        "    {'Name': 'Đồ Chơi - Mẹ &amp; Bé',            'URL': 'https://tiki.vn/do-choi-me-be/c2549'},\n",
        "    {'Name': 'Điện Thoại - Máy Tính Bảng',       'URL': 'https://tiki.vn/dien-thoai-may-tinh-bang/c1789'},\n",
        "    {'Name': 'Làm Đẹp - Sức Khỏe',               'URL': 'https://tiki.vn/lam-dep-suc-khoe/c1520'},\n",
        "    {'Name': 'Điện Gia Dụng',                    'URL': 'https://tiki.vn/dien-gia-dung/c1882'},\n",
        "    {'Name': 'Thời trang nữ',                    'URL': 'https://tiki.vn/thoi-trang-nu/c931'},\n",
        "    {'Name': 'Thời trang nam',                   'URL': 'https://tiki.vn/thoi-trang-nam/c915'},\n",
        "    {'Name': 'Giày - Dép nữ',                    'URL': 'https://tiki.vn/giay-dep-nu/c1703'},\n",
        "    {'Name': 'Giày - Dép nam',                   'URL': 'https://tiki.vn/giay-dep-nam/c1686'},\n",
        "    {'Name': 'Túi thời trang nữ',                'URL': 'https://tiki.vn/tui-vi-nu/c976'},\n",
        "    {'Name': 'Túi thời trang nam',               'URL': 'https://tiki.vn/tui-thoi-trang-nam/c27616'},\n",
        "    {'Name': 'Balo và Vali',                     'URL': 'https://tiki.vn/balo-va-vali/c6000'},\n",
        "    {'Name': 'Phụ kiện thời trang',              'URL': 'https://tiki.vn/phu-kien-thoi-trang/c27498'},\n",
        "    {'Name': 'Đồng hồ và Trang sức',             'URL': 'https://tiki.vn/dong-ho-va-trang-suc/c8371'},\n",
        "    {'Name': 'Laptop - Máy Vi Tính - Linh kiện', 'URL': 'https://tiki.vn/laptop-may-vi-tinh-linh-kien/c1846'},\n",
        "    {'Name': 'Nhà Cửa - Đời Sống',               'URL': 'https://tiki.vn/nha-cua-doi-song/c1883'},\n",
        "    {'Name': 'Bách Hóa Online',                  'URL': 'https://tiki.vn/bach-hoa-online/c4384'},\n",
        "    {'Name': 'Hàng Quốc Tế',                     'URL': 'https://tiki.vn/hang-quoc-te/c17166'},\n",
        "    {'Name': 'Thiết Bị Số - Phụ Kiện Số',        'URL': 'https://tiki.vn/thiet-bi-kts-phu-kien-so/c1815'},\n",
        "    {'Name': 'Voucher - Dịch vụ',                'URL': 'https://tiki.vn/voucher-dich-vu/c11312'},\n",
        "    {'Name': 'Ô Tô - Xe Máy - Xe Đạp',           'URL': 'https://tiki.vn/o-to-xe-may-xe-dap/c8594'},\n",
        "    {'Name': 'Nhà Sách Tiki',                    'URL': 'https://tiki.vn/nha-sach-tiki/c8322'},\n",
        "    {'Name': 'Điện Tử - Điện Lạnh',              'URL': 'https://tiki.vn/dien-tu-dien-lanh/c4221'},\n",
        "    {'Name': 'Thể Thao - Dã Ngoại',              'URL': 'https://tiki.vn/the-thao-da-ngoai/c1975'},\n",
        "    {'Name': 'Máy Ảnh - Máy Quay Phim',          'URL': 'https://tiki.vn/may-anh/c1801'}\n",
        "]"
      ],
      "execution_count": null,
      "outputs": []
    },
    {
      "cell_type": "markdown",
      "metadata": {
        "id": "9ur0CQW0XRcI"
      },
      "source": [
        "## 1.Function to get info from one product\n",
        "\n",
        ">⚠️ **NOTE:** Sometimes, the web element returned by the driver can be faulty due to the way the website is set up. This can lead to a situation where calling `.text` from that web element returns an empty string, even though there are visible texts inside the element when checked manually using Inspect. When this happens, you can use `.get_attribute('innerHTML')` instead of `.text`."
      ]
    },
    {
      "cell_type": "code",
      "source": [
        "close_driver()"
      ],
      "metadata": {
        "id": "-Kt2fc3xApBf"
      },
      "execution_count": null,
      "outputs": []
    },
    {
      "cell_type": "code",
      "metadata": {
        "id": "a3lx4DNUXQhN"
      },
      "source": [
        "# Function to extract product info from the product\n",
        "def get_product_info_single(product_item):\n",
        "  info1 = {'name':'',\n",
        "          'price':'',\n",
        "          'product_url':'',\n",
        "          'image':''}\n",
        "  try:   \n",
        "    info1['product_url'] = product_item.get_attribute('href')\n",
        "    info1['price']  = product_item.find_element(By.CLASS_NAME,'price-discount__price').text\n",
        "    info1['name'] = product_item.find_element(By.TAG_NAME, \"h3\").text\n",
        "    info1['image'] = product_item.find_element(By.CLASS_NAME,'thumbnail').find_element(By.CLASS_NAME,'image-wrapper').find_element(By.CLASS_NAME,'webpimg-container').find_element(By.TAG_NAME, \"img\").get_attribute('src')\n",
        "  except:\n",
        "    pass  \n",
        "  return info1"
      ],
      "execution_count": null,
      "outputs": []
    },
    {
      "cell_type": "markdown",
      "metadata": {
        "id": "TNQYhIUqXZZU"
      },
      "source": [
        "## 2.Function to scrape info of all products from a Page URL\n",
        "\n",
        "To make your own life easier, you should use the function for a single product inside this one."
      ]
    },
    {
      "cell_type": "code",
      "metadata": {
        "id": "-00un6opKyNH"
      },
      "source": [
        "# Function to scrape all products from a page\n",
        "def get_product_info_from_page(page_url):\n",
        "  global DRIVER\n",
        "  DRIVER.get(page_url)\n",
        "  storage = []\n",
        "  all_items_elements = DRIVER.find_elements(By.CLASS_NAME, 'product-item')\n",
        "  for i in range(len(all_items_elements)):\n",
        "    info1 = get_product_info_single(all_items_elements[i])\n",
        "    storage.append(info1) \n",
        "                # Store the info dictionary of each product in this list\n",
        "                         # Use the driver to get info from the product page\n",
        "    \n",
        "    time.sleep(3)        # Sleep AFTER loading website in order to wait for it to finish\n",
        "    \n",
        "    # Get a list of product elements. Print number of products found if desired.\n",
        "\n",
        "    # Loop through list of product elements, read and add each product info into `data`\n",
        "  print(len(storage))\n",
        "  return storage"
      ],
      "execution_count": null,
      "outputs": []
    },
    {
      "cell_type": "markdown",
      "source": [
        "## 3.Start scraping"
      ],
      "metadata": {
        "id": "Vwex_TYFa_YW"
      }
    },
    {
      "cell_type": "code",
      "metadata": {
        "id": "M4VOxvj7K6IY",
        "colab": {
          "base_uri": "https://localhost:8080/"
        },
        "outputId": "530ea6b2-5558-4c82-86eb-86182a3b1757"
      },
      "source": [
        "cat_idx  = 1 # Pick any category you like by changing the index\n",
        "main_cat = MAIN_CATEGORIES[cat_idx]\n",
        "\n",
        "start_driver(force_restart=True)\n",
        "print('Scraping', main_cat['Name'])\n",
        "print('Link:', main_cat['URL'])\n",
        "\n",
        "prod_data = [] # STORE YOUR PRODUCT INFO DICTIONARIES IN HERE\n",
        "data = get_product_info_from_page(main_cat['URL'])\n",
        "prod_data.extend(data)\n",
        "print(prod_data)\n",
        "close_driver() # Close driver when we're done"
      ],
      "execution_count": null,
      "outputs": [
        {
          "output_type": "stream",
          "name": "stdout",
          "text": [
            "Scraping Điện Thoại - Máy Tính Bảng\n",
            "Link: https://tiki.vn/dien-thoai-may-tinh-bang/c1789\n",
            "48\n",
            "[{'name': 'Máy Tính Bảng Samsung Galaxy Tab S7 FE LTE T735 (4GB/64GB) - Hàng Chính Hãng', 'price': '10.290.000 ₫', 'product_url': 'https://tka.tiki.vn/pixel/pixel?data=djAwMfzNgqPNf0pcB4miJacMm7d_vT4Ncj_74vJEll38kjJujnDmJDd8pmmJN2VZfyLyeYi_MXtp2mgrj0PjlTNN1n230Fhok_LdK9PmRIL3kglDB4B4EJ4xi5DbOU0g4qVmxtlB9tPYyFpgE3j2tBkDZ4UPu8pGMn-fjG1lYDfgiU5kbBU1v3v4UgTxRj0jN2P_KzUsyE24-avou_8BXJP_yb3CT9xEKmpulPirCMv64lzCf8JDvi_nKMjlSRo2puGR1MAbSWlDfhlBhZc_2lW_sg_z8Y7kc672Iabqq5I8U5mFHYZO5UkKEbhG5S7nniPYGFbUhuuph7PrCbLdo_NcJv6wTWQG5bMr9Z6CZ6mM8boAFhduoJggZRxKD2PzCGDgHp0-PRoxPQw4HVhhXminGfrT7BV7Op5l1BPwfs6YBeU0ptHG_1xejJQ-VJg-kM0CyeTgBMAe_Vis6vh5dv7uIqT2Lq33N2SmdNVu5q0fcw7YbdSTXcrmITGbkxMUpW75TAJOA6k-glPHXwRAugfsWpwDe-H76rRIpoVhjiRQHDjrJ9gsLJnI5grv8uK1YXSeh5jntwZBeMeGbi-ZPYTDx8_6SMMKqbO8Mj8QhCg8sLuK7klpiTExG75wPJUW9kcdaRvGWVQQ8FGt09ZmrtR1KQCJMJmQuxEO4LG9iMO4EyFKSmhHe85fducyGK4T242MG7W9zniPYe3eicNNaVML2jXCuBYRZKHbr82HfbnbuaMYnYifxx3JLALGRTFEsfPplZw1R2bw2Qdjhod2iOSI7pzmEjc5G0RNqG0TyKl7Oy4pZA4LxQTl3YZL4e4QD38ZyalnEkQoraHBXVYtmUfzFlxms_phVR9AAT2p_fCiDbFl_vifSMcshkeSO249TD5usmyEA6Sjy3lEH43HlJyZKEH2gNGtzWYViZRVti7t8deza8d6pphmCPsxXbSc9W_51c18TwYDjWYLDQ0R-fGywpxssK-Kt2WcJuuc9w1B1DDngkkjrvl6OWs1ynhl7u_4CSuq3ZXzRq3oJoUDSfeb4yuTQBMQDhObAStxdSOKmJ9fUyY5iAlD7k_3F1JldddQzgF8G8W3ozyfel8tW2Rw_D5CoiFlrqAbf29tvMDwabwqpa4raNzSsbbcYaTMoocKbCX_IOusmTKxmpgq-cjeaxB-0CsRWyhAruPF-8pTONv6wJR42mwG04FZHBxujJFsmEX2roKghBJKvQ09oFsveUBGvxm_FcINTTUhNXPreEDzSHRgYeS38W7LvW6YLLOjJrQzG6_Wbu3dlH8ICg2a8bvgMGE&CLICK&reqid=LM8vXXHU3h&pos=1&redirect=https%3A%2F%2Ftiki.vn%2Fmay-tinh-bang-samsung-galaxy-tab-s7-fe-lte-t735-4gb-64gb-hang-chinh-hang-p113920312.html%3Fspid%3D113920314', 'image': 'https://salt.tikicdn.com/cache/200x200/ts/product/65/89/c7/66b73e67009e0af7204efb3c06d94590.jpg'}, {'name': 'Điện thoại Samsung M33 5G (8Gb/128GB) - Hàng chính hãng', 'price': '5.660.000 ₫', 'product_url': 'https://tka.tiki.vn/pixel/pixel?data=djAwMXvWDMVzYLWjJNMlFMw3_l5_bBohRMmLwoiuDYyG5-Ktmkhr8jASRQlOnQK2IsGFD1EkbLoE9bHAL-D7VW6v6IVkelNizF1GdY_AHmqJQ2YJPc3SWCpmNH1pQzcv4XhJ2d8RNmVn74bT4WeeU4y8OJGUycGDDtiT1F65XL2d2SVXwbUudDdn9pqJTBL1YEBbU_qZkoRmlnW4yMbXRCiaqlLGmX7qIwUOuut28D5f84Kbf9x6QEEzleH_6eo-LWRs0gZX3rx0xB_3cH7rS9PMH9SoKlXmCC5oQj7vpOD1OTnvqqZ1HsOiyIUeoFX6_jeIHvbPkudGO4lxFMnL_Kgw2MChkFuzetfX0rSt9hhIJBV4Fph-8DAYljRUsKNudCLF-jHFlRoj9zn9ii89znMsN5Gday6NpbmCa7QbUrjER12KygKj7qJ0pKX1QrI7uSvg7hzdjJgkoXfJNba1i5onGcDg-Nxe4aqtDXmFhoarym_hol3zZx3SS3VQRwmn1rMe5JUXWr5iDjLct2mevSlw2vLcjQjG0VGqL-ARr-I7T9zo3JLb5wdU32XL3RUxXZ60sDOVXmyq5u_mjOhy5-v9xoMmkOs7stcTygK34fuY1m6ODjyXXsSPI2SkG7_hR6XEIb_4kgqrXOqltWmA6vsCH84HmND3o108ndRDENl7Jlvdn9BR9sawxXePMCYD5IcveNHrIODgzmv0geDpsaSlDpcKBVFNkbFCPHwtMNW5NgxCu69btcveAEJkDcoRgF89meAbX1u22gc_QVZdyzNAU3gPja_vANIlkkrsWR6aKxVYH_49sAWoZT1jytloWZgYrudWDl41AxAgJYkBE4DF5ncpwbFikSER0Nhihwns3L3K4fv2l5M7-92EkJE4i-4ilRW7b7m5iJT23r1w3yVbUmqsEl-cBVxyztQfWgY3ZGxrDBEm9ioDh04V1DldG2TcnBvSJRHE-elQNOs3ukeQ1XZxoRssSD1rTk9Nlklai1NKRL2ZQLErgRVn16eqJRByzGe582GlgIJFJcaXRJ5Iluo5eH5ou5h0Davk1BhWLOTWDDokEhoVU2YO98uljgt3d5QBDcZOG8Rnk47AzYzKG3ry4N908ewqXRs9nHX9i4-qW7vC9USQvnim6o9fBUk4kSkshRXH02Vynymi0Zz-6kryB_kgK-qu9X-qiAJZmAmRbzI9b11QTN8Lt2-S0L-2HexRoWfCY4Z5Ek_Zb_oUcneQOs6G3eDwWoYU4XQ5TSkVYTwYrxCBeN2_ad55ulHEj_5eFY1iTrIMDbLxx_VDdNy_O2g9&CLICK&reqid=LM8vXXHU3h&pos=5&redirect=https%3A%2F%2Ftiki.vn%2Fdien-thoai-samsung-m33-5g-8gb-128gb-hang-chinh-hang-p173383634.html%3Fspid%3D173383636', 'image': 'https://salt.tikicdn.com/cache/200x200/ts/product/78/f8/08/72155c238482b531ee9f783be742d430.jpg'}, {'name': 'Máy tính bảng Samsung Galaxy Tab A8 (4GB/64GB) - Hàng Chính Hãng', 'price': '7.490.000 ₫', 'product_url': 'https://tka.tiki.vn/pixel/pixel?data=djAwMUZAXKCIIOxMUDCdp_M0kzWj9953cOL8-zyS3WQQUPzAynZIGOqymgX9vvpKsMBmhiUKpQBdIWTKaQyDkLG5D_GHq-RrkDJACyRsnURptcsdRqK1nR8olNhZ1mWGDLjO8YrKEz-TzSyOyqPVv0KAiRYNXxPkL4BrJC_pkJtiS8axoedJnPhP4T1GP0Gi05MtLYOYHZGzhr6tqp6XmrFwMW_D5F4e767HUWaZq5TI1ZVpDZXyF6fQLnU8X61h1uK5xvJOhhBT9fDsQVbMM7LOJ2Ld-z_DmrazDAxFxMpqUtkKy_4RzC1AaQwQGuzQpuLiu4bXixIclHAclS2P7BWHqYJwDuvq1iAaWMalox5_WypMuquyUamv2NqDfRTrE9oSvcVHxFW-Ir3QAhwna55Nwr4rvPkVn_1P6zv3X3RSUz-tKF4OgtZQQBdUk9YDwDc2JjWKlzyuY3iMQR8ZPujUUzAFkWecgDTA1RyMIxfcJj0-bDNPf0uYH8aNpaFxSHQFUlXYXRcQGugdvYePLoOsHS7f8CfACRRewebdOgY22RshFNNvfj_DG5pJxlshZS1BQrU6beV_zRz8gLvxe9ljg-YgTnVaK-mODXHwgtdqwNZSZZ4zS2M2jxdiDjEZefbuqCBFkVdENoZ0hE7saHBvj5O89C9ekFVNxUz4LieyJHag511UAqJmTwQCvGc5Joz-XRDb4Gs9cL6HmceeEk2yoYkzBP9Z_1QFPxdU3uEu6y_t08lA0ULR8f3D-64Oa6hRw6VQ6Gq1ZpQNbl86MuBURsTtUzUFNYvd9Ymxl7IZ1x57D5jOtUAQcoSyl8WQV2AzDLLy5_eP4jcpP5fiMT5RYbGEkiz_gIfxpvx5uppeiCKpG5OoPEVze6JXll6CNRQf9pgKSWiwv0oOG1uCNa-r-wgKWks4w-4jBCyFnDQFqpK4BIVbpp5Yd7uwaYHFE0JLVgBvp4XcPqclVLUqTOomeqCoSMjADYGQLn8PEtgUZnfHNsQJjBwQ1JeTAtg7SzAImL-lUUI3eqf0vrLWHdsZoPbgkCUzv7PTNPM9nyJAFcTISeEJOC1K9Waxu1kcaAAnojulpu9Rk934-I6xVW3eOEhtZAMIb669b5hBLDAUZ1tZ9ZfGhg_AResVhT3ksinccRgNhglNOWehB_KC9h_WlNmIfmaDrm-uON2UXH7uXg4r4UI9VqgcnmhUxpGt5eigEi5ChEqIZ_inf425UA7b0FPa01XTiU29kaT4EgW4v2MDJf8Bi1j7x_yv_EzCWOPdmmX6PHBtmNx3DONEg08c5odLqJRf8gsogsAB4qk&CLICK&reqid=LM8vXXHU3h&pos=9&redirect=https%3A%2F%2Ftiki.vn%2Fmay-tinh-bang-samsung-galaxy-tab-a8-4gb-64gb-hang-chinh-hang-p158742790.html%3Fspid%3D158742794', 'image': 'https://salt.tikicdn.com/cache/200x200/ts/product/99/af/54/9ec147039f23a07c4b904e1c23e58aeb.jpg'}, {'name': '', 'price': '', 'product_url': 'https://tka.tiki.vn/pixel/pixel?data=djAwMSxtz1vupS_WTJKrRzNW6tZ3V3mrHIFM7PiDKs4k3QJCvtJFkaTrHCuZS8yavoCvwGFoMPPkpu6igMddNyHUQ2mCF70cxsGOxbkgbDymynwtsZbj4gXYteZzLCXkJQ2cG9IVWLXDXkTFiN-MBEpCgCvfLagFrw5hgH3OUDxnSbR6xFLJ7Ek_gQEcUuWlqHGCkeBswZagC5dNX-C3UT3f65DaUn0Lh9WPsSFrpkkIhxZbR51Xgwx1ILh1L2ifgaZMLY46XJi74BN1CMwFtvmOfIKofM7XXyBK4aWZ2JzI6vd5-rXy5xYDpvcYgyLiVvkrWSKp_PY-tuOLoNtbnSA_JS3ssyGD3Up6aF71iPOVOt1ZJ-2I3PaM2g1ts9m1smPBM0mnPKdj-RPqpCB1CRQvFCW0_im2EAjUVxGcJdQc0fBuLFoC-LP-H0smzyjN0cw8Ocu69PHFE-KWrkO1m7BYDASHgNkCxuiiLmZ3Ky_YYaGyi5z6f_VfgUzoO0ldoCOJnBauyU2vREo7_k6bA5dG5mk43N8TWy-bITBOVeV5XJCBt6oy3TACc_S8TBNQJrd4jQq3y-e9jKEj2p8ERaX_ZqyiIb0jj7uXRGmsi42wNJhPWTajr35t_2cvMfV2XM3lIbjGYwMfqdlyQ-BEU62UIuNC-zhtgTDiOWdpUaxB17hBuwQkPuEU5aJRYg6UOjP214kV0q1mTueYZhd_V7zxCUqFmAGs6jNWVSr-0zAVjakjeh-tlKBYay9oNOCLV5caSfFfSD4smwVbMZD0zoMJ6YRMGoWf_PxDHrzMM6ZY68BHdWw5ZO62ui9i7FgH1o0GTrJ6fK7FKEswPpf1A2Rgfg3d__uK-q68UYFBDKP6gyLLu85hE2E6CMVZIy1ZijlAz-kL44WzDoQuVa8T8W6ZVRj3Be_9zo83IOGF1NjWRntbuGfuX5Tzotmgt2MlTN8xHaVUAPmV1-TpgvjiyfSA9i0_aXG8uosSa4T6B_g5Q7HGgtQj0yZS5wWrehsy4DPfxwHcbm7Cf9uchwZCcstAzPn_lc_DnJLL-cYlgLNLdZBmm0t_XSyQStrdUPAWgVQZiZqxNE41nTQ2I_OisVkcAgpbOVSPdkBwYohEUz1eAgE2zItIbnZUI5Z99CZ25hTjiBpchtF2Exp9u3f3zUV2WLZsEHJOorvY3VW4B_sjuoI6YEychKDDUvwk2jq-2IWDGkLIJwGh4-adbXKxlsBjr6DyCwCMICN-u9E0W7SuB13QSdT1OtOxq2cDYdS7ulW1OayDjc_ln-UZEfswfCVaZM5bo3VBloUxH9cP6670&CLICK&reqid=LM8vXXHU3h&pos=13&redirect=https%3A%2F%2Ftiki.vn%2Fdien-thoai-samsung-galaxy-m23-5g-6gb-128gb-hang-chinh-hang-p172998120.html%3Fspid%3D172998263', 'image': 'https://salt.tikicdn.com/cache/200x200/ts/product/8d/1b/e9/6c4b0e5309a8f34c8db4910e35b9f51d.jpg'}, {'name': 'Máy đọc sách All New Kindle Paperwhite 5 (11th Gen) - Hàng nhập khẩu', 'price': '3.990.000 ₫', 'product_url': 'https://tiki.vn/may-doc-sach-all-new-kindle-paperwhite-5-11th-gen-hang-nhap-khau-p125182567.html?itm_campaign=tiki-reco_UNK_DT_UNK_UNK_tiki-listing_UNK_p-category-mpid-listing-v1_202207170600_MD_batched_PID.125182569&itm_medium=CPC&itm_source=tiki-reco&spid=125182569', 'image': ''}, {'name': 'Điện thoại Xiaomi Redmi 9A (2GB/32GB) - Hàng chính hãng', 'price': '2.090.000 ₫', 'product_url': 'https://tiki.vn/dien-thoai-xiaomi-redmi-9a-2gb-32gb-hang-chinh-hang-p57809866.html?itm_campaign=tiki-reco_UNK_DT_UNK_UNK_tiki-listing_UNK_p-category-mpid-listing-v1_202207170600_MD_batched_PID.57809870&itm_medium=CPC&itm_source=tiki-reco&spid=57809870', 'image': ''}, {'name': 'Tecno Pova 2 6GB l 128GB - Điện Thoại Thông Minh Chiến Game Cực Đỉnh - Hàng Chính Hãng', 'price': '3.690.000 ₫', 'product_url': 'https://tiki.vn/tecno-pova-2-6gb-l-128gb-dien-thoai-thong-minh-chien-game-cuc-dinh-hang-chinh-hang-p103046198.html?itm_campaign=tiki-reco_UNK_DT_UNK_UNK_tiki-listing_UNK_p-category-mpid-listing-v1_202207170600_MD_batched_PID.168423771&itm_medium=CPC&itm_source=tiki-reco&spid=168423771', 'image': ''}, {'name': '', 'price': '', 'product_url': 'https://tiki.vn/apple-iphone-13-hang-chinh-hang-p184059211.html?itm_campaign=tiki-reco_UNK_DT_UNK_UNK_tiki-listing_UNK_p-category-mpid-listing-v1_202207170600_MD_batched_PID.123547399&itm_medium=CPC&itm_source=tiki-reco&spid=123547399', 'image': ''}, {'name': 'Điện Thoại Oppo A16k (3GB/32G) - Hàng Chính Hãng', 'price': '2.920.000 ₫', 'product_url': 'https://tiki.vn/dien-thoai-oppo-a16k-3gb-32g-hang-chinh-hang-p142545270.html?itm_campaign=tiki-reco_UNK_DT_UNK_UNK_tiki-listing_UNK_p-category-mpid-listing-v1_202207170600_MD_batched_PID.142545275&itm_medium=CPC&itm_source=tiki-reco&spid=142545275', 'image': ''}, {'name': 'Điện Thoại Samsung Galaxy M32 (8GB/128GB) - Hàng Chính Hãng - Đã kích hoạt bảo hành điện tử', 'price': '4.590.000 ₫', 'product_url': 'https://tiki.vn/dien-thoai-samsung-galaxy-m32-8gb-128gb-hang-chinh-hang-da-kich-hoat-bao-hanh-dien-tu-p128865871.html?itm_campaign=tiki-reco_UNK_DT_UNK_UNK_tiki-listing_UNK_p-category-mpid-listing-v1_202207170600_MD_batched_PID.128865873&itm_medium=CPC&itm_source=tiki-reco&spid=128865873', 'image': ''}, {'name': 'Máy Tính Bảng Samsung Galaxy Tab S7 FE LTE T735 (4GB/64GB) - Hàng Chính Hãng', 'price': '10.290.000 ₫', 'product_url': 'https://tiki.vn/may-tinh-bang-samsung-galaxy-tab-s7-fe-lte-t735-4gb-64gb-hang-chinh-hang-p113920312.html?itm_campaign=tiki-reco_UNK_DT_UNK_UNK_tiki-listing_UNK_p-category-mpid-listing-v1_202207170600_MD_batched_PID.113920316&itm_medium=CPC&itm_source=tiki-reco&spid=113920316', 'image': ''}, {'name': '', 'price': '', 'product_url': 'https://tiki.vn/dien-thoai-oppo-a94-8gb-128g-hang-chinh-hang-p88255880.html?itm_campaign=tiki-reco_UNK_DT_UNK_UNK_tiki-listing_UNK_p-category-mpid-listing-v1_202207170600_MD_batched_PID.88255888&itm_medium=CPC&itm_source=tiki-reco&spid=88255888', 'image': ''}, {'name': 'Điện Thoại Oppo Reno 6Z 5G (8GB/128G) - Hàng Chính Hãng', 'price': '6.410.000 ₫', 'product_url': 'https://tiki.vn/dien-thoai-oppo-reno-6z-5g-8gb-128g-hang-chinh-hang-p113569117.html?itm_campaign=tiki-reco_UNK_DT_UNK_UNK_tiki-listing_UNK_p-category-mpid-listing-v1_202207170600_MD_batched_PID.113569119&itm_medium=CPC&itm_source=tiki-reco&spid=113569119', 'image': ''}, {'name': 'Apple iPhone 13 Pro Max', 'price': '27.180.000 ₫', 'product_url': 'https://tiki.vn/apple-iphone-13-pro-max-hang-chinh-hang-p184061913.html?itm_campaign=tiki-reco_UNK_DT_UNK_UNK_tiki-listing_UNK_p-category-mpid-listing-v1_202207170600_MD_batched_PID.123554551&itm_medium=CPC&itm_source=tiki-reco&spid=123554551', 'image': ''}, {'name': 'Máy tính bảng Samsung Galaxy Tab A7 Lite LTE SM-T225) - ĐÃ KÍCH HOẠT ĐIỆN TỬ - Hàng Chính Hãng', 'price': '4.990.000 ₫', 'product_url': 'https://tiki.vn/may-tinh-bang-samsung-galaxy-tab-a7-lite-lte-sm-t225-da-kich-hoat-dien-tu-hang-chinh-hang-p103168844.html?itm_campaign=tiki-reco_UNK_DT_UNK_UNK_tiki-listing_UNK_p-category-mpid-listing-v1_202207170600_MD_batched_PID.104310220&itm_medium=CPC&itm_source=tiki-reco&spid=104310220', 'image': ''}, {'name': '', 'price': '', 'product_url': 'https://tiki.vn/dien-thoai-nokia-c20-2gb-16gb-hang-chinh-hang-p135332196.html?itm_campaign=tiki-reco_UNK_DT_UNK_UNK_tiki-listing_UNK_p-category-mpid-listing-v1_202207170600_MD_batched_PID.140621854&itm_medium=CPC&itm_source=tiki-reco&spid=140621854', 'image': ''}, {'name': 'Điện Thoại Samsung Galaxy M51 (8GB/128GB) - Hàng Chính Hãng - Đã kích hoạt bảo hành điện tử', 'price': '5.790.000 ₫', 'product_url': 'https://tiki.vn/dien-thoai-samsung-galaxy-m51-8gb-128gb-hang-chinh-hang-da-kich-hoat-bao-hanh-dien-tu-p101307851.html?itm_campaign=tiki-reco_UNK_DT_UNK_UNK_tiki-listing_UNK_p-category-mpid-listing-v1_202207170600_MD_batched_PID.101307855&itm_medium=CPC&itm_source=tiki-reco&spid=101307855', 'image': ''}, {'name': 'Điện Thoại OnePlus Nord CE 5G (12GB/256G) - Hàng Chính Hãng', 'price': '7.870.000 ₫', 'product_url': 'https://tiki.vn/dien-thoai-oneplus-nord-ce-5g-12gb-256g-hang-chinh-hang-p109516584.html?itm_campaign=tiki-reco_UNK_DT_UNK_UNK_tiki-listing_UNK_p-category-mpid-listing-v1_202207170600_MD_batched_PID.109516586&itm_medium=CPC&itm_source=tiki-reco&spid=109516586', 'image': ''}, {'name': 'Điện thoại Samsung M33 5G (8Gb/128GB) - Hàng chính hãng', 'price': '5.660.000 ₫', 'product_url': 'https://tiki.vn/dien-thoai-samsung-m33-5g-8gb-128gb-hang-chinh-hang-p173383634.html?itm_campaign=tiki-reco_UNK_DT_UNK_UNK_tiki-listing_UNK_p-category-mpid-listing-v1_202207170600_MD_batched_PID.173383638&itm_medium=CPC&itm_source=tiki-reco&spid=173383638', 'image': ''}, {'name': '', 'price': '', 'product_url': 'https://tiki.vn/apple-iphone-11-p184036446.html?itm_campaign=tiki-reco_UNK_DT_UNK_UNK_tiki-listing_UNK_p-category-mpid-listing-v1_202207170600_MD_batched_PID.32033725&itm_medium=CPC&itm_source=tiki-reco&spid=32033725', 'image': ''}, {'name': 'Apple iPhone 12', 'price': '16.260.000 ₫', 'product_url': 'https://tiki.vn/apple-iphone-12-hang-chinh-hang-p123345348.html?itm_campaign=tiki-reco_UNK_DT_UNK_UNK_tiki-listing_UNK_p-category-mpid-listing-v1_202207170600_MD_batched_PID.97736366&itm_medium=CPC&itm_source=tiki-reco&spid=97736366', 'image': ''}, {'name': 'Điện Thoại Oppo A55 (4GB/64GB) - Hàng Chính Hãng', 'price': '3.870.000 ₫', 'product_url': 'https://tiki.vn/dien-thoai-oppo-a55-4gb-64gb-hang-chinh-hang-p132068858.html?itm_campaign=tiki-reco_UNK_DT_UNK_UNK_tiki-listing_UNK_p-category-mpid-listing-v1_202207170600_MD_batched_PID.132068860&itm_medium=CPC&itm_source=tiki-reco&spid=132068860', 'image': ''}, {'name': 'Điện Thoại Nokia C30 (2GB/32GB) - Hàng Chính Hãng', 'price': '2.010.000 ₫', 'product_url': 'https://tiki.vn/dien-thoai-nokia-c30-2gb-32gb-hang-chinh-hang-p120295859.html?itm_campaign=tiki-reco_UNK_DT_UNK_UNK_tiki-listing_UNK_p-category-mpid-listing-v1_202207170600_MD_batched_PID.120295861&itm_medium=CPC&itm_source=tiki-reco&spid=120295861', 'image': ''}, {'name': '', 'price': '', 'product_url': 'https://tiki.vn/dien-thoai-ban-panasonic-kx-tsc11-hang-chinh-hang-p125171841.html?itm_campaign=tiki-reco_UNK_DT_UNK_UNK_tiki-listing_UNK_p-category-mpid-listing-v1_202207170600_MD_batched_PID.171865419&itm_medium=CPC&itm_source=tiki-reco&spid=171865419', 'image': ''}, {'name': 'Điện thoại Xiaomi Redmi Note 11 (4GB/128GB) - Hàng chính hãng', 'price': '4.090.000 ₫', 'product_url': 'https://tiki.vn/dien-thoai-xiaomi-redmi-note-11-4gb-128gb-hang-chinh-hang-p160801751.html?itm_campaign=tiki-reco_UNK_DT_UNK_UNK_tiki-listing_UNK_p-category-mpid-listing-v1_202207170600_MD_batched_PID.166542228&itm_medium=CPC&itm_source=tiki-reco&spid=166542228', 'image': ''}, {'name': 'Apple iPhone 13 Pro', 'price': '24.590.000 ₫', 'product_url': 'https://tiki.vn/apple-iphone-13-pro-hang-chinh-hang-p184058811.html?itm_campaign=tiki-reco_UNK_DT_UNK_UNK_tiki-listing_UNK_p-category-mpid-listing-v1_202207170600_MD_batched_PID.123554553&itm_medium=CPC&itm_source=tiki-reco&spid=123554553', 'image': ''}, {'name': 'Điện thoại di động Vivo Y21s (4GB/128GB) - Hàng chính hãng', 'price': '4.150.000 ₫', 'product_url': 'https://tiki.vn/dien-thoai-di-dong-vivo-y21s-4gb-128gb-hang-chinh-hang-p123565891.html?itm_campaign=tiki-reco_UNK_DT_UNK_UNK_tiki-listing_UNK_p-category-mpid-listing-v1_202207170600_MD_batched_PID.123565893&itm_medium=CPC&itm_source=tiki-reco&spid=123565893', 'image': ''}, {'name': '', 'price': '', 'product_url': 'https://tiki.vn/dien-thoai-samsung-galaxy-a23-5g-4gb-128gb-hang-chinh-hang-xanh-p170581659.html?itm_campaign=tiki-reco_UNK_DT_UNK_UNK_tiki-listing_UNK_p-category-mpid-listing-v1_202207170600_MD_batched_PID.170581666&itm_medium=CPC&itm_source=tiki-reco&spid=170581666', 'image': ''}, {'name': 'Điện Thoại Nokia G21 (4GB/128GB) - Hàng Chính Hãng', 'price': '3.520.000 ₫', 'product_url': 'https://tiki.vn/dien-thoai-nokia-g21-4gb-128gb-hang-chinh-hang-p179438706.html?itm_campaign=tiki-reco_UNK_DT_UNK_UNK_tiki-listing_UNK_p-category-mpid-listing-v1_202207170600_MD_batched_PID.179438710&itm_medium=CPC&itm_source=tiki-reco&spid=179438710', 'image': ''}, {'name': 'Điện Thoại Xiaomi Redmi Note 10S (8GB-128GB) - Hàng Chính Hãng', 'price': '4.650.000 ₫', 'product_url': 'https://tiki.vn/dien-thoai-xiaomi-redmi-note-10s-8gb-128gb-hang-chinh-hang-p101615454.html?itm_campaign=tiki-reco_UNK_DT_UNK_UNK_tiki-listing_UNK_p-category-mpid-listing-v1_202207170600_MD_batched_PID.102653831&itm_medium=CPC&itm_source=tiki-reco&spid=102653831', 'image': ''}, {'name': 'Máy đọc sách Kindle PaperWhite Gen 4 (10th) - Bản 8GB - Hàng chính hãng', 'price': '2.820.000 ₫', 'product_url': 'https://tiki.vn/may-doc-sach-kindle-paperwhite-gen-4-10th-ban-8gb-2019-hang-chinh-hang-p6597807.html?itm_campaign=tiki-reco_UNK_DT_UNK_UNK_tiki-listing_UNK_p-category-mpid-listing-v1_202207170600_MD_batched_PID.56947750&itm_medium=CPC&itm_source=tiki-reco&spid=56947750', 'image': ''}, {'name': '', 'price': '', 'product_url': 'https://tiki.vn/dien-thoai-oppo-a16k-4gb-64g-hang-chinh-hang-p164937168.html?itm_campaign=tiki-reco_UNK_DT_UNK_UNK_tiki-listing_UNK_p-category-mpid-listing-v1_202207170600_MD_batched_PID.164937172&itm_medium=CPC&itm_source=tiki-reco&spid=164937172', 'image': ''}, {'name': 'Apple iPad 10.2-inch (9th Gen) Wi-Fi, 2021', 'price': '9.030.000 ₫', 'product_url': 'https://tiki.vn/apple-ipad-10-2-inch-9th-gen-wi-fi-2021-p183330021.html?itm_campaign=tiki-reco_UNK_DT_UNK_UNK_tiki-listing_UNK_p-category-mpid-listing-v1_202207170600_MD_batched_PID.124939771&itm_medium=CPC&itm_source=tiki-reco&spid=124939771', 'image': ''}, {'name': 'Điện Thoại Nokia C01 Plus 2GB/16GB - Hàng Chính Hãng', 'price': '1.649.000 ₫', 'product_url': 'https://tiki.vn/dien-thoai-nokia-c01-plus-2gb-16gb-hang-chinh-hang-p119464777.html?itm_campaign=tiki-reco_UNK_DT_UNK_UNK_tiki-listing_UNK_p-category-mpid-listing-v1_202207170600_MD_batched_PID.138826717&itm_medium=CPC&itm_source=tiki-reco&spid=138826717', 'image': ''}, {'name': 'Điện thoại Nokia C30 2GB/32GB - Hàng chính hãng', 'price': '2.090.000 ₫', 'product_url': 'https://tiki.vn/dien-thoai-nokia-c30-2gb-32gb-hang-chinh-hang-p125590981.html?itm_campaign=tiki-reco_UNK_DT_UNK_UNK_tiki-listing_UNK_p-category-mpid-listing-v1_202207170600_MD_batched_PID.125590983&itm_medium=CPC&itm_source=tiki-reco&spid=125590983', 'image': ''}, {'name': '', 'price': '', 'product_url': 'https://tiki.vn/dien-thoai-di-dong-4g-philips-xenium-e506-hang-chinh-hang-p173450461.html?itm_campaign=tiki-reco_UNK_DT_UNK_UNK_tiki-listing_UNK_p-category-mpid-listing-v1_202207170600_MD_batched_PID.173450463&itm_medium=CPC&itm_source=tiki-reco&spid=173450463', 'image': ''}, {'name': 'Máy Đọc Sách All New Kindle 2019 (10th) – Hàng Chính Hãng', 'price': '2.245.000 ₫', 'product_url': 'https://tiki.vn/may-doc-sach-all-new-kindle-2019-10th-hang-chinh-hang-p14507169.html?itm_campaign=tiki-reco_UNK_DT_UNK_UNK_tiki-listing_UNK_p-category-mpid-listing-v1_202207170600_MD_batched_PID.17616545&itm_medium=CPC&itm_source=tiki-reco&spid=17616545', 'image': ''}, {'name': 'Điện thoại Xiaomi Redmi Note 11 (4GB/64GB) - Hàng chính hãng', 'price': '3.899.000 ₫', 'product_url': 'https://tiki.vn/dien-thoai-xiaomi-redmi-note-11-4gb-64gb-hang-chinh-hang-p160801738.html?itm_campaign=tiki-reco_UNK_DT_UNK_UNK_tiki-listing_UNK_p-category-mpid-listing-v1_202207170600_MD_batched_PID.169879714&itm_medium=CPC&itm_source=tiki-reco&spid=169879714', 'image': ''}, {'name': 'Điện Thoại Oppo A74 (8GB/128G) - Hàng Chính Hãng', 'price': '5.730.000 ₫', 'product_url': 'https://tiki.vn/dien-thoai-oppo-a74-8gb-128g-hang-chinh-hang-p103363484.html?itm_campaign=tiki-reco_UNK_DT_UNK_UNK_tiki-listing_UNK_p-category-mpid-listing-v1_202207170600_MD_batched_PID.103363488&itm_medium=CPC&itm_source=tiki-reco&spid=103363488', 'image': ''}, {'name': '', 'price': '', 'product_url': 'https://tiki.vn/dien-thoai-ban-kxts500-hang-chinh-hang-p163914808.html?itm_campaign=tiki-reco_UNK_DT_UNK_UNK_tiki-listing_UNK_p-category-mpid-listing-v1_202207170600_MD_batched_PID.163914810&itm_medium=CPC&itm_source=tiki-reco&spid=163914810', 'image': ''}, {'name': 'Máy tính bảng Fire HD10 2021 - 11th - (All New Fire HD10 - 2021) - Ram 3/4GB, bộ nhớ 32GB, màn hình 1080 FullHD', 'price': '3.170.000 ₫', 'product_url': 'https://tiki.vn/may-tinh-bang-fire-hd10-2021-11th-all-new-fire-hd10-2021-ram-3gb-bo-nho-32gb-man-hinh-1080-fullhd-p150724369.html?itm_campaign=tiki-reco_UNK_DT_UNK_UNK_tiki-listing_UNK_p-category-mpid-listing-v1_202207170600_MD_batched_PID.152760405&itm_medium=CPC&itm_source=tiki-reco&spid=152760405', 'image': ''}, {'name': 'Máy đọc sách Kindle Paperwhite 5 (8GB) - Hàng chính hãng', 'price': '4.300.000 ₫', 'product_url': 'https://tiki.vn/may-doc-sach-kindle-paperwhite-5-8gb-hang-chinh-hang-p179547641.html?itm_campaign=tiki-reco_UNK_DT_UNK_UNK_tiki-listing_UNK_p-category-mpid-listing-v1_202207170600_MD_batched_PID.179547642&itm_medium=CPC&itm_source=tiki-reco&spid=179547642', 'image': ''}, {'name': 'Điện thoại Samsung Galaxy A53 5G (8GB/128GB) - Hàng chính hãng', 'price': '9.690.000 ₫', 'product_url': 'https://tiki.vn/dien-thoai-samsung-galaxy-a53-5g-8gb-128gb-hang-chinh-hang-p170497385.html?itm_campaign=tiki-reco_UNK_DT_UNK_UNK_tiki-listing_UNK_p-category-mpid-listing-v1_202207170600_MD_batched_PID.170497393&itm_medium=CPC&itm_source=tiki-reco&spid=170497393', 'image': ''}, {'name': '', 'price': '', 'product_url': 'https://tiki.vn/dien-thoai-realme-narzo-50i-4gb-64gb-hang-chinh-hang-da-kich-hoat-bao-hanh-dien-tu-p141122642.html?itm_campaign=tiki-reco_UNK_DT_UNK_UNK_tiki-listing_UNK_p-category-mpid-listing-v1_202207170600_MD_batched_PID.142433081&itm_medium=CPC&itm_source=tiki-reco&spid=142433081', 'image': ''}, {'name': 'Điện thoại Samsung Galaxy A03s (4GB/64GB) - Hàng chính hãng', 'price': '3.090.000 ₫', 'product_url': 'https://tka.tiki.vn/pixel/pixel?data=djAwMYZBgyBpqKnoxZtkbVgjZJCOLq_NN-C-vWohs55y6VRyW1c75mjsILsQO7U1oGpk-o5cL4YYxHfgMy1KiLN5kRDf6HIx1SUUtfHPePik9Z9QugkCLBIWlH9kE_EHINk8QFoNK8baCtayXKUjmAVafAuqPUHGbddhuj58ScLiPz6gjVDHBhuWMWiiK2dxGekiGT0kAOe2y8OgBc-MOS4YF9pYpOBBACXo5QNI-Z7IwpoBLqGweffd3OSN4gGDWWrky4rOAJAGsQcIJmyAJ_lTyQ6-28BJLX40pxwN5vfz7oOhQqaPeluxiRq6WBVVhlPr_jnVyKHD3URA1CHrI2Tshn4-i3hFd_Q8pVxtpuyl_WvWQVGgr9lV44qeN9P_1OPQuLqVaXMp_xa8MLdidWKz6oU-YkNazZ6tCAj5Kczl1P8CXAoZM4XFZT52oojLNqYvAz77gypX01erBShfcxPURigiXMNGDYfcPB9_WmXlyAzSMkN3txw1F8705fTjeoZd6KDZmG3RXsbgj3BTGin3jnZq-y6vZ_VNy7NoNAPGgcobTYBFpk2Ko3H7uQJvpfMliWGQXs-4ud8gt8GlgoKLRD1vqa0BhvJ54RSQBzwyLszSccks6CeBxfwPIA1PG0eLkru6SRjLU8-n1wNsBxmtuLjEsE3EMUPBeD8s1Tg-HmnZwHy7H3PjbspJuTxc8GP0t8V_vPR7CWah0ReiIOzR7unmTrqQ8QqxVvIVHsxN2gNTI5_NqTrmrLUfLr8ViZ5Q3xH1Om7BGfAv6t-4afsALgHwVdRjIBZFUOzinkYKenNNCOlFXTduWP3HLCemusBjRirlP2ExdmmFv6QK1bDivhrcpp9yw6auwhk01wXq61WUKkdNXyWe8toG_TVgW8NZQrJGMpYAWbm43O75CcEwbhrxXGIr8CR-pwULUi0MBNBT7fx9qGWTdtFQQx2NmklGk2XaNeP0fJRaW4_UjaRXyYHeY34ooqkKdkg64kWNuSD5W1liwLq6I6Kvy1QhV2YUMmYDcps8s65XatO0QZipzQ8-BeVFDiPyMjErkea6UE-_UPP6k1zXvY2zpxwsBSxJBHKPeuaXrk0DXif9YG4EC5nS7lSwDQacsLjmh16czbX0Nl5L7bNTFfN9D1OjegPuMS0zzo8OVmQ9OEjiEVe1QgzOLtBCCPUFoosqJc6AwGyBx5XDsrmk7xdSud9noZvXpiivrAXBBmjYyZEBRUEggWAEc9d6kKA2mrpucm9p5Z3NfOZhc8L9OKuK1OVfr3gFYyh6j5d9NboWBPjtWG1H_HS0Kysjf-rB6prdfpB2iV_o6g4-&CLICK&reqid=LM8vXXHU3h&pos=17&redirect=https%3A%2F%2Ftiki.vn%2Fdien-thoai-samsung-galaxy-a03s-4gb-64gb-hang-chinh-hang-p120450353.html%3Fspid%3D126022663', 'image': ''}, {'name': 'Điện thoại OPPO Reno7 4G (8GB/128GB) - Hàng Chính Hãng', 'price': '7.390.000 ₫', 'product_url': 'https://tka.tiki.vn/pixel/pixel?data=djAwMTDDAe9KbHTim05q2e-vOvf_XxPngn8Z38Ba3LDyiyb_SJAOEwZ_DL1WMB9KQrhre8_tx55KzmsJZAj20Gp3TNZupToKWwGhkeUXN6XqlnEHPqpoNvgaWMpSuegsDSPUtFgeO8rCagSNKbVf1Mw1u_zRIiulX6CNslxHWitnHxcdYH-dPI9uZSvJqsdsHvQ2YVLLb18DZDt_oN4z6Fedc461eZGhgttJ0qfJxHHjezaK_FZ4vIg6U0LDi9o7pjUGD_7zqU8W5l0fwo-mifgPxWsj-1AUkOUGL-cHmubz2Th-tG2l23XQciZvb-xZTyl80yWcntxgcsrt7cEjh_ODbtr1-sfknQ4mc-b8z1au7Ccz4i4FUFGvaz08E0rVrLzGfPEj3_R3P7hiEP4VygsyEbHUiXmTVj1tPgFp7YOGg3bTajEASlF7dTN_-5WzVlaHTlTuNyihmv9gDpnLFTts98RoBGQlTjfL4eIDmocgh5Ma1VukMlaRKpBiY54448o_cZv6zJKi7Qi10SeHs-8lmeg3FohK_GXm72YIGLd6EEOorS-jtUouLNRNhGQa8krhMHZgWLCB_80Xg_TCPniXoWDwF5kWHvrFDclxtfDoi1YR15ZWT5Lj6Wx8DGwmvUY1nfb7EcP5l4z4BgcD5ncGNFpXjXqm9wrFeKB20yJo1JZM4j3JPKB-UrJtpRqMHvLy9GjkMSQSmHNMVnxhlNDAbp9mIlH-ggs6QIN9JdnZmq6HA-LXI_fbbYvlbRcux-PAZerx2CaCPNkb49hTIR1tjdnnw8KtRLfJ8-fzy7H4c1cPrLQTmdGzGR_tE-O5_4KOfJgpCzdGbLPAN0r3v82UDLh03_buLCHxpiP0xfU3MB1_CTM0S_Wrx3etDhtP76dW6eUk2j9g1JaNEku35B133QLnhdJ353ECMVC9GVKRgzwf7MPMR_5mnSA1bEXoAq_L8E3-zE73jncOQFygj8OiSEd3qTIHhWmXhkQo3Tt5QvhJ7ovEfyR-upscD1aj9RDJcgCDbqU7c8GeAZXPCIDuP3ZLbe_hKhsg0hWqGyh8w8att0OG0vT7FSUecBGsbGtiFi6NzhC2tQ-BuL-YV18rANKl6V_lPBBUHA5hPLaRJhtM3uq6s87Ogw052fHxZRIzmXVhj_p2naqTvGtMkp9yYn5bGUths1B_K7mHWLqh_jowSnDOEYTwDcqe9QE8JczyfUsIa4HizwfbtAKatF9YFOhcQKscM2I1D2rGagRC67lguhnzm-dEJgxID4NbmA&CLICK&reqid=LM8vXXHU3h&pos=21&redirect=https%3A%2F%2Ftiki.vn%2Fdien-thoai-oppo-reno7-4g-8gb-128gb-hang-chinh-hang-p186243828.html%3Fspid%3D186243832', 'image': ''}, {'name': 'Điện thoại Samsung Galaxy S22 Ultra 5G (12GB/512GB) - Hàng Chính Hãng', 'price': '34.990.000 ₫', 'product_url': 'https://tka.tiki.vn/pixel/pixel?data=djAwMVbk7S1mQjp217N4FnPK2gavVUoVjIco7XuxGOhDsFjao7xUUV0MsNeHqCFvqeLnx3Xumht2tL59KTe09HC_Vk-dx2YKbZGcV-jzspi-7WjNXwqkxXWkiZ1awfPkHCNX6oNjlAV-uj9oksLK8Lucx174r4_1uejDRea9rLAL-ixm44zo3uHY2w3uuRVMDa1F57Gr1KoGXXGTJVmcRcLfwmJG6Lez8fT68aFi4c1SQsIk-0nY3oR52Jelni-yUZYwaiyHpdjdXC44dBv2riIPIy0KksGW0-qA9_QFsQuNLe0LZlTHQM6RCBEnS58tDVRMNEEivON_F7wM-jZbNX9bPqjnLL1eor7Or9_LMs5zRierPMzZM5ulliiz4Bf7XKVulZawmTtt0ASUt0kCm0z-L24pzpt3qVkQDuBjkgkBkSxkNc1q8mnhfyoDzV7zsJoxZRCPZS0HTKPswMl1S2_BsTzbeAPDr9UCe_Fx8spcuz4AHL5vCtLv0kDEHOm91lDIlkihYUrCBBnE5-CwRm4de4klAl7WoSi4NY8j1eijKn6ZhVvqAUr0qlQ7O46BuBeCqRVTcAWlm3A9x1C-8tA7pw_inkgPhWxegFgmijTPkQ2xJqCelIkGq9SBCedDxEh0VBetCci2MeMDOf2BMGoi0bgWSSYAkXLM0BZxhdBSRhYUD9Y_MlH_O6Z7Dc4TV_TFZo1VwtXGT55Hgsf29R7QM5kSu1zi7KATcEBd9h8NjUJx4YwZxo7T4qrU34NG2jqtg1CIj46NR1O_qwYPbco8gy0PLVZGY_shtMRmeBzpg1tfX-1AgE3m3Yn0qsjcSca_-U_bpIRJlHgd9iRM7tvofdx4P4fmPo1sZOD4MO9xuR1dYgKjKYw4_xWz0cH5UXbN84L_pdSTBDhvttmdSX58MrS6UzcRwvceWyhGA8mZyooX_p6CBVcPNVHYePLkvnSh1Yq3DgyuaCuE30_87HJRFn_Qy4mwKbnvh3x0Fxu10C-9s6p1VNxNGPXF81bX_4setEhy3uTDaj_UD1aO27plOKv6nqP-cecAVtLdi-FpOYOABIFew7_2pXpA7WBpzZsCnk7WCrhC5_Qfu-snEeZcqogEa5AMXuDko2spgmHSiQ0--1jV0kBQFqp45BHlA1ehp8g2OzDR_gfh7UzI7JZqGKdM9CI7GTfojGLNp81pdJWRSW4Zy6gChDFL_4OimsPIM3RYUej8e44Fh6uswZx7MDQTYvWZ60rPxy8WKNNN7hwS4mfTUrtRUZPqNCBkmTqOTPyVcur3mb1BvK4sSLQwai9kz6nCiZ5yr-Los2U&CLICK&reqid=LM8vXXHU3h&pos=25&redirect=https%3A%2F%2Ftiki.vn%2Fdien-thoai-samsung-galaxy-s22-ultra-5g-12gb-512gb-hang-chinh-hang-p162593187.html%3Fspid%3D162593195', 'image': ''}, {'name': '', 'price': '', 'product_url': 'https://tka.tiki.vn/pixel/pixel?data=djAwMeZyiju6fHzv1XbJc5HyghgO2LXXdHxjJDXYAYAQDgi_Lg8X5fINXu2EdLuOHN3wpLzoKi2V4XpCB1hyvY3umoz39OzrSdmkzkK2rVh8xEKTF_gSSF05d56P-nxqNauILo0Du7bHX9HI-XXe5iYZuw9QG-OZqGOLvUrfqEkag9m6w-sxIXcwmELT_af6u_oMKbTxZ3Ve7aaV0gJOI5i2Olz9dhwUpjhVtnTWMY76zd6IdoB09UwRL3YDwjsv-xigncGTg6nQE4BrxItbO59qSV52iUDJU8YXrDpX67zoFTSmm0_IdJUd5IoISneaPLcTaoYtagvhpoxOhcN36DM4uO1GHG-dxDlldQf7NctiOVnL-mdhBa70gDdkAYlIF2KvE3Jj-rLLyT7-P6JXbGfigs1DkB8Al0cEYh53tNZjyGmQmiJHb1ocAyS3oG39fMUXLAXtXk8Vel34ry8RhUe0lMqnoWwsXkqqeYQba2RQgdRgOVSLk-5oH7h2QYiGeCXFjUexTq0-UhkYqBQh40vr7cwm0fVaqJLcyDlTuyO12zdNBOXhjZH1nZSCQFXStI7xAVpHyBgNSGhasn3TPJrYa2BibaNltIBKzsFUKVTS6V_S1SJYwrxqgU-8tX9T_K9zkcGRSfXeEgQFbB1zmCfX2uwFdEqqOyYyvvgcAGdgpi6ohloMkADJRQYUTtVlivFIdjxPQgi6t7CNbZj38DFiBrGLSLaRC_kq6XsS4hGdDdo7GCGOZK_rS77BdXSY6UPYhiVB0G4o3Ho__CO9zm_skeLGFnnfsVNXMSKU-r1ij1M0B_IjP-e9XfiU3r_DsZwfQ3XAlSgBuud0806g2qCybV9m4xoVZTyNCaSCWHlTKKgmECiF-KvLnvdrKE3xuodRc8RaqPR_zNua11XwhSfTojDXmtwShC6Uiwm5Jkt7NoIujZPnhM56u5MhtHOnwijwxJc-disdgo8Ulbe0b94c3ALAiETKObvjBClRk_gLandndm0gZpsrUapOMnsOU_2wwMZKqm3czfFMG9yuiMm98nst4sSmjOWD1ynPFTSxTQ8r76QoMSgOUL6LhQHTG15OlBtI6T24aPyg1sJhpfMHNluqo12mZ2FIBAARH_jgNWSyH54YoZoZ80ygwgfVXuago_qG3SPPJsa8RuKbPI-UFnKrKVfEKY-epVAEh5Toz0rPvUcjQOhjLPRL3wH3-RsBiTtpK4IHsDVqRtF_rZpciO3KEXZWAtfw83q0qzO7GjV9WYAfPkJy91ug15vieTreOtr7PbQNEA&CLICK&reqid=LM8vXXHU3h&pos=29&redirect=https%3A%2F%2Ftiki.vn%2Fdien-thoai-samsung-galaxy-a13-4gb-64gb-hang-chinh-hang-p187254759.html%3Fspid%3D187254763', 'image': ''}]\n"
          ]
        }
      ]
    },
    {
      "cell_type": "markdown",
      "source": [
        "## 4.Run cell below to save your scraped data into a .csv file\n",
        "If you've scraped correctly, then the cell should run without error and the information in the table should look reasonable."
      ],
      "metadata": {
        "id": "iF9Kjs2eZXun"
      }
    },
    {
      "cell_type": "code",
      "metadata": {
        "id": "2jEyRaOEh_Ek",
        "colab": {
          "base_uri": "https://localhost:8080/",
          "height": 407
        },
        "outputId": "5cdcafa7-0cd7-49c8-9175-c5eb08bc6f30"
      },
      "source": [
        "# SAVE DATA TO CSV FILE\n",
        "df = pd.DataFrame(data=prod_data, columns=prod_data[0].keys())\n",
        "df.to_csv('tiki_products.csv')\n",
        "\n",
        "n_products_to_view = 10 # Change this as you like to check more products\n",
        "df.head(n_products_to_view)"
      ],
      "execution_count": null,
      "outputs": [
        {
          "output_type": "execute_result",
          "data": {
            "text/plain": [
              "                                                name         price  \\\n",
              "0  Máy Tính Bảng Samsung Galaxy Tab S7 FE LTE T73...  10.290.000 ₫   \n",
              "1  Điện thoại Samsung M33 5G (8Gb/128GB) - Hàng c...   5.660.000 ₫   \n",
              "2  Máy tính bảng Samsung Galaxy Tab A8 (4GB/64GB)...   7.490.000 ₫   \n",
              "3                                                                    \n",
              "4  Máy đọc sách All New Kindle Paperwhite 5 (11th...   3.990.000 ₫   \n",
              "5  Điện thoại Xiaomi Redmi 9A (2GB/32GB) - Hàng c...   2.090.000 ₫   \n",
              "6  Tecno Pova 2 6GB l 128GB - Điện Thoại Thông Mi...   3.690.000 ₫   \n",
              "7                                                                    \n",
              "8   Điện Thoại Oppo A16k (3GB/32G) - Hàng Chính Hãng   2.920.000 ₫   \n",
              "9  Điện Thoại Samsung Galaxy M32 (8GB/128GB) - Hà...   4.590.000 ₫   \n",
              "\n",
              "                                         product_url  \\\n",
              "0  https://tka.tiki.vn/pixel/pixel?data=djAwMfzNg...   \n",
              "1  https://tka.tiki.vn/pixel/pixel?data=djAwMXvWD...   \n",
              "2  https://tka.tiki.vn/pixel/pixel?data=djAwMUZAX...   \n",
              "3  https://tka.tiki.vn/pixel/pixel?data=djAwMSxtz...   \n",
              "4  https://tiki.vn/may-doc-sach-all-new-kindle-pa...   \n",
              "5  https://tiki.vn/dien-thoai-xiaomi-redmi-9a-2gb...   \n",
              "6  https://tiki.vn/tecno-pova-2-6gb-l-128gb-dien-...   \n",
              "7  https://tiki.vn/apple-iphone-13-hang-chinh-han...   \n",
              "8  https://tiki.vn/dien-thoai-oppo-a16k-3gb-32g-h...   \n",
              "9  https://tiki.vn/dien-thoai-samsung-galaxy-m32-...   \n",
              "\n",
              "                                               image  \n",
              "0  https://salt.tikicdn.com/cache/200x200/ts/prod...  \n",
              "1  https://salt.tikicdn.com/cache/200x200/ts/prod...  \n",
              "2  https://salt.tikicdn.com/cache/200x200/ts/prod...  \n",
              "3  https://salt.tikicdn.com/cache/200x200/ts/prod...  \n",
              "4                                                     \n",
              "5                                                     \n",
              "6                                                     \n",
              "7                                                     \n",
              "8                                                     \n",
              "9                                                     "
            ],
            "text/html": [
              "\n",
              "  <div id=\"df-c4f29c2b-48d7-490a-960a-ace244cdf437\">\n",
              "    <div class=\"colab-df-container\">\n",
              "      <div>\n",
              "<style scoped>\n",
              "    .dataframe tbody tr th:only-of-type {\n",
              "        vertical-align: middle;\n",
              "    }\n",
              "\n",
              "    .dataframe tbody tr th {\n",
              "        vertical-align: top;\n",
              "    }\n",
              "\n",
              "    .dataframe thead th {\n",
              "        text-align: right;\n",
              "    }\n",
              "</style>\n",
              "<table border=\"1\" class=\"dataframe\">\n",
              "  <thead>\n",
              "    <tr style=\"text-align: right;\">\n",
              "      <th></th>\n",
              "      <th>name</th>\n",
              "      <th>price</th>\n",
              "      <th>product_url</th>\n",
              "      <th>image</th>\n",
              "    </tr>\n",
              "  </thead>\n",
              "  <tbody>\n",
              "    <tr>\n",
              "      <th>0</th>\n",
              "      <td>Máy Tính Bảng Samsung Galaxy Tab S7 FE LTE T73...</td>\n",
              "      <td>10.290.000 ₫</td>\n",
              "      <td>https://tka.tiki.vn/pixel/pixel?data=djAwMfzNg...</td>\n",
              "      <td>https://salt.tikicdn.com/cache/200x200/ts/prod...</td>\n",
              "    </tr>\n",
              "    <tr>\n",
              "      <th>1</th>\n",
              "      <td>Điện thoại Samsung M33 5G (8Gb/128GB) - Hàng c...</td>\n",
              "      <td>5.660.000 ₫</td>\n",
              "      <td>https://tka.tiki.vn/pixel/pixel?data=djAwMXvWD...</td>\n",
              "      <td>https://salt.tikicdn.com/cache/200x200/ts/prod...</td>\n",
              "    </tr>\n",
              "    <tr>\n",
              "      <th>2</th>\n",
              "      <td>Máy tính bảng Samsung Galaxy Tab A8 (4GB/64GB)...</td>\n",
              "      <td>7.490.000 ₫</td>\n",
              "      <td>https://tka.tiki.vn/pixel/pixel?data=djAwMUZAX...</td>\n",
              "      <td>https://salt.tikicdn.com/cache/200x200/ts/prod...</td>\n",
              "    </tr>\n",
              "    <tr>\n",
              "      <th>3</th>\n",
              "      <td></td>\n",
              "      <td></td>\n",
              "      <td>https://tka.tiki.vn/pixel/pixel?data=djAwMSxtz...</td>\n",
              "      <td>https://salt.tikicdn.com/cache/200x200/ts/prod...</td>\n",
              "    </tr>\n",
              "    <tr>\n",
              "      <th>4</th>\n",
              "      <td>Máy đọc sách All New Kindle Paperwhite 5 (11th...</td>\n",
              "      <td>3.990.000 ₫</td>\n",
              "      <td>https://tiki.vn/may-doc-sach-all-new-kindle-pa...</td>\n",
              "      <td></td>\n",
              "    </tr>\n",
              "    <tr>\n",
              "      <th>5</th>\n",
              "      <td>Điện thoại Xiaomi Redmi 9A (2GB/32GB) - Hàng c...</td>\n",
              "      <td>2.090.000 ₫</td>\n",
              "      <td>https://tiki.vn/dien-thoai-xiaomi-redmi-9a-2gb...</td>\n",
              "      <td></td>\n",
              "    </tr>\n",
              "    <tr>\n",
              "      <th>6</th>\n",
              "      <td>Tecno Pova 2 6GB l 128GB - Điện Thoại Thông Mi...</td>\n",
              "      <td>3.690.000 ₫</td>\n",
              "      <td>https://tiki.vn/tecno-pova-2-6gb-l-128gb-dien-...</td>\n",
              "      <td></td>\n",
              "    </tr>\n",
              "    <tr>\n",
              "      <th>7</th>\n",
              "      <td></td>\n",
              "      <td></td>\n",
              "      <td>https://tiki.vn/apple-iphone-13-hang-chinh-han...</td>\n",
              "      <td></td>\n",
              "    </tr>\n",
              "    <tr>\n",
              "      <th>8</th>\n",
              "      <td>Điện Thoại Oppo A16k (3GB/32G) - Hàng Chính Hãng</td>\n",
              "      <td>2.920.000 ₫</td>\n",
              "      <td>https://tiki.vn/dien-thoai-oppo-a16k-3gb-32g-h...</td>\n",
              "      <td></td>\n",
              "    </tr>\n",
              "    <tr>\n",
              "      <th>9</th>\n",
              "      <td>Điện Thoại Samsung Galaxy M32 (8GB/128GB) - Hà...</td>\n",
              "      <td>4.590.000 ₫</td>\n",
              "      <td>https://tiki.vn/dien-thoai-samsung-galaxy-m32-...</td>\n",
              "      <td></td>\n",
              "    </tr>\n",
              "  </tbody>\n",
              "</table>\n",
              "</div>\n",
              "      <button class=\"colab-df-convert\" onclick=\"convertToInteractive('df-c4f29c2b-48d7-490a-960a-ace244cdf437')\"\n",
              "              title=\"Convert this dataframe to an interactive table.\"\n",
              "              style=\"display:none;\">\n",
              "        \n",
              "  <svg xmlns=\"http://www.w3.org/2000/svg\" height=\"24px\"viewBox=\"0 0 24 24\"\n",
              "       width=\"24px\">\n",
              "    <path d=\"M0 0h24v24H0V0z\" fill=\"none\"/>\n",
              "    <path d=\"M18.56 5.44l.94 2.06.94-2.06 2.06-.94-2.06-.94-.94-2.06-.94 2.06-2.06.94zm-11 1L8.5 8.5l.94-2.06 2.06-.94-2.06-.94L8.5 2.5l-.94 2.06-2.06.94zm10 10l.94 2.06.94-2.06 2.06-.94-2.06-.94-.94-2.06-.94 2.06-2.06.94z\"/><path d=\"M17.41 7.96l-1.37-1.37c-.4-.4-.92-.59-1.43-.59-.52 0-1.04.2-1.43.59L10.3 9.45l-7.72 7.72c-.78.78-.78 2.05 0 2.83L4 21.41c.39.39.9.59 1.41.59.51 0 1.02-.2 1.41-.59l7.78-7.78 2.81-2.81c.8-.78.8-2.07 0-2.86zM5.41 20L4 18.59l7.72-7.72 1.47 1.35L5.41 20z\"/>\n",
              "  </svg>\n",
              "      </button>\n",
              "      \n",
              "  <style>\n",
              "    .colab-df-container {\n",
              "      display:flex;\n",
              "      flex-wrap:wrap;\n",
              "      gap: 12px;\n",
              "    }\n",
              "\n",
              "    .colab-df-convert {\n",
              "      background-color: #E8F0FE;\n",
              "      border: none;\n",
              "      border-radius: 50%;\n",
              "      cursor: pointer;\n",
              "      display: none;\n",
              "      fill: #1967D2;\n",
              "      height: 32px;\n",
              "      padding: 0 0 0 0;\n",
              "      width: 32px;\n",
              "    }\n",
              "\n",
              "    .colab-df-convert:hover {\n",
              "      background-color: #E2EBFA;\n",
              "      box-shadow: 0px 1px 2px rgba(60, 64, 67, 0.3), 0px 1px 3px 1px rgba(60, 64, 67, 0.15);\n",
              "      fill: #174EA6;\n",
              "    }\n",
              "\n",
              "    [theme=dark] .colab-df-convert {\n",
              "      background-color: #3B4455;\n",
              "      fill: #D2E3FC;\n",
              "    }\n",
              "\n",
              "    [theme=dark] .colab-df-convert:hover {\n",
              "      background-color: #434B5C;\n",
              "      box-shadow: 0px 1px 3px 1px rgba(0, 0, 0, 0.15);\n",
              "      filter: drop-shadow(0px 1px 2px rgba(0, 0, 0, 0.3));\n",
              "      fill: #FFFFFF;\n",
              "    }\n",
              "  </style>\n",
              "\n",
              "      <script>\n",
              "        const buttonEl =\n",
              "          document.querySelector('#df-c4f29c2b-48d7-490a-960a-ace244cdf437 button.colab-df-convert');\n",
              "        buttonEl.style.display =\n",
              "          google.colab.kernel.accessAllowed ? 'block' : 'none';\n",
              "\n",
              "        async function convertToInteractive(key) {\n",
              "          const element = document.querySelector('#df-c4f29c2b-48d7-490a-960a-ace244cdf437');\n",
              "          const dataTable =\n",
              "            await google.colab.kernel.invokeFunction('convertToInteractive',\n",
              "                                                     [key], {});\n",
              "          if (!dataTable) return;\n",
              "\n",
              "          const docLinkHtml = 'Like what you see? Visit the ' +\n",
              "            '<a target=\"_blank\" href=https://colab.research.google.com/notebooks/data_table.ipynb>data table notebook</a>'\n",
              "            + ' to learn more about interactive tables.';\n",
              "          element.innerHTML = '';\n",
              "          dataTable['output_type'] = 'display_data';\n",
              "          await google.colab.output.renderOutput(dataTable, element);\n",
              "          const docLink = document.createElement('div');\n",
              "          docLink.innerHTML = docLinkHtml;\n",
              "          element.appendChild(docLink);\n",
              "        }\n",
              "      </script>\n",
              "    </div>\n",
              "  </div>\n",
              "  "
            ]
          },
          "metadata": {},
          "execution_count": 10
        }
      ]
    },
    {
      "cell_type": "code",
      "source": [
        "# Overview of the table\n",
        "df.info()"
      ],
      "metadata": {
        "id": "-KzdtJiDm4_s"
      },
      "execution_count": null,
      "outputs": []
    },
    {
      "cell_type": "markdown",
      "source": [
        "## 5.Finally, download your hard-earned `.csv` file that you've managed to create"
      ],
      "metadata": {
        "id": "UlQYOjgkl0Vp"
      }
    },
    {
      "cell_type": "code",
      "source": [
        "# Just run the code below after you've created your own csv file.\n",
        "# You can then open this file in a spreadsheet management program, like MS Excel\n",
        "# and see your results.\n",
        "from google.colab import files\n",
        "files.download('tiki_products.csv')"
      ],
      "metadata": {
        "id": "NTrx-mv6l725",
        "colab": {
          "base_uri": "https://localhost:8080/",
          "height": 34
        },
        "outputId": "753f314d-81d4-47e2-da26-11b6da96d503"
      },
      "execution_count": null,
      "outputs": [
        {
          "output_type": "display_data",
          "data": {
            "text/plain": [
              "<IPython.core.display.Javascript object>"
            ],
            "application/javascript": [
              "\n",
              "    async function download(id, filename, size) {\n",
              "      if (!google.colab.kernel.accessAllowed) {\n",
              "        return;\n",
              "      }\n",
              "      const div = document.createElement('div');\n",
              "      const label = document.createElement('label');\n",
              "      label.textContent = `Downloading \"${filename}\": `;\n",
              "      div.appendChild(label);\n",
              "      const progress = document.createElement('progress');\n",
              "      progress.max = size;\n",
              "      div.appendChild(progress);\n",
              "      document.body.appendChild(div);\n",
              "\n",
              "      const buffers = [];\n",
              "      let downloaded = 0;\n",
              "\n",
              "      const channel = await google.colab.kernel.comms.open(id);\n",
              "      // Send a message to notify the kernel that we're ready.\n",
              "      channel.send({})\n",
              "\n",
              "      for await (const message of channel.messages) {\n",
              "        // Send a message to notify the kernel that we're ready.\n",
              "        channel.send({})\n",
              "        if (message.buffers) {\n",
              "          for (const buffer of message.buffers) {\n",
              "            buffers.push(buffer);\n",
              "            downloaded += buffer.byteLength;\n",
              "            progress.value = downloaded;\n",
              "          }\n",
              "        }\n",
              "      }\n",
              "      const blob = new Blob(buffers, {type: 'application/binary'});\n",
              "      const a = document.createElement('a');\n",
              "      a.href = window.URL.createObjectURL(blob);\n",
              "      a.download = filename;\n",
              "      div.appendChild(a);\n",
              "      a.click();\n",
              "      div.remove();\n",
              "    }\n",
              "  "
            ]
          },
          "metadata": {}
        },
        {
          "output_type": "display_data",
          "data": {
            "text/plain": [
              "<IPython.core.display.Javascript object>"
            ],
            "application/javascript": [
              "download(\"download_92184589-5a81-4ed1-a6ed-340b34068129\", \"tiki_products.csv\", 25991)"
            ]
          },
          "metadata": {}
        }
      ]
    },
    {
      "cell_type": "markdown",
      "source": [
        "## **⚠️ IMPORTANT ⚠️: SHARE FILE PERMISSION**\n",
        "\n",
        "After finishing, share this file with ***editing*** permission to the following emails:\n",
        "- minh.nguyen@coderschool.vn\n",
        "- ngoc.le@coderschool.vn\n",
        "- Your personal mentor's email\n",
        "\n",
        "Your grades will not be processed unless we have received this permission. This way, we can add comments and feedbacks to your project and help you learn better 🙌"
      ],
      "metadata": {
        "id": "k8RUHCI9hNYj"
      }
    },
    {
      "cell_type": "markdown",
      "metadata": {
        "id": "J3zDxF2zh7M7"
      },
      "source": [
        "## 🎁  **BONUS**\n",
        "1. Scrape the [category names and links](#tiki-cats) from www.tiki.vn instead of writing them out exactly. Make sure that the format stays the same (`list` of `dict`). (1 pt)\n",
        "\n",
        "1. Change your code to scrape any number of pages you want in a single category. For example, try to scrape every page of the \"Điện Thoại - Máy Tính Bảng\" category, or any other category you like. You can create a new function, add new arguments, and/or writing new statements as you like. (2 pts)\n",
        "\n",
        "1. Extra information (3 pts). Think carefully about how to add these to your existing functions.\n",
        "    * What's the rating?\n",
        "    * Number of units sold?\n",
        "    * Discount percentage?\n",
        "    * Does it have TikiNow? <img src=\"https://salt.tikicdn.com/ts/upload/9f/32/dd/8a8d39d4453399569dfb3e80fe01de75.png\">\n",
        "    * Does it have FreeShip? <img src=\"https://salt.tikicdn.com/ts/upload/dc/0d/49/3251737db2de83b74eba8a9ad6d03338.png\">\n",
        "    * Is the product from an official seller? <img src=\"https://salt.tikicdn.com/ts/upload/b9/1f/4b/557eac9c67a4466ccebfa74cde854215.png\">\n",
        "    * Is the product from a trusted seller? <img src=\"https://salt.tikicdn.com/ts/upload/e0/41/da/bb0fc684a838eff5e264ce0534a148f0.png\">\n",
        "    * Does it have \"badge under price\" (Rẻ hơn hoàn tiền)? <img src=\"https://salt.tikicdn.com/ts/upload/51/ac/cc/528e80fe3f464f910174e2fdf8887b6f.png\">\n",
        "    * Does it allowed to be paid by installments? <img src=\"https://salt.tikicdn.com/ts/upload/ba/4e/6e/26e9f2487e9f49b7dcf4043960e687dd.png\">\n",
        "    * Does it comes with free gifts? <img src=\"https://salt.tikicdn.com/ts/upload/47/35/8c/446f61d046eba9a305d3f39dc0834c4a.png\">\n",
        "    <!-- * Does it have \"shocking price\" badge? <img src=\"https://salt.tikicdn.com/ts/upload/75/34/d2/4a9a0958a782da8930cdad8f08afff37.png\"> -->\n"
      ]
    },
    {
      "cell_type": "markdown",
      "source": [
        "The .csv result should be similar to this\n",
        "\n",
        "<img src=\"https://imgur.com/FpwFdIQ.png\">"
      ],
      "metadata": {
        "id": "6ta-NnvW-KQy"
      }
    }
  ]
}